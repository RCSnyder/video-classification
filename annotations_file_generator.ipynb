{
 "cells": [
  {
   "cell_type": "code",
   "execution_count": 1,
   "id": "17ca8400",
   "metadata": {},
   "outputs": [],
   "source": [
    "from pathlib import Path\n",
    "import numpy as np\n",
    "import os\n",
    "import cv2\n",
    "from tqdm import tqdm_notebook"
   ]
  },
  {
   "cell_type": "code",
   "execution_count": 2,
   "id": "94e48241",
   "metadata": {},
   "outputs": [],
   "source": [
    "# This notebook will generate the annotation.txt file in the format of:\n",
    "# <classfoldername>/<videofoldername> <int start frame> <int end frame> <label_id>"
   ]
  },
  {
   "cell_type": "code",
   "execution_count": 5,
   "id": "f4175b90",
   "metadata": {},
   "outputs": [],
   "source": [
    "LABEL_DICT = {\"CLOCKWISE\": 0, \"COUNTERCLOCKWISE\": 1, \"DOWN\": 2, \"UP\": 3, \"LEFT\": 4, \"RIGHT\": 5}"
   ]
  },
  {
   "cell_type": "code",
   "execution_count": 77,
   "id": "e31a99e8",
   "metadata": {},
   "outputs": [],
   "source": [
    "INPUT_FRAMES_DIRECTORY = Path(\"D:/__School/__Masters/____2021fALL/5280_aiwearables/video_frames\")\n",
    "OUTPUT_DIRECTORY = Path(\"D:/__School/__Masters/____2021fALL/5280_aiwearables/video_frames/annotations.txt\")\n",
    "TEST_VIDEO_DIR = Path(\"D:/__School/__Masters/____2021fALL/5280_aiwearables/video_frames/CLOCKWISE/AW_CLOCKWISE_00001\")\n",
    "TEST_FRAME_DIR = Path(\"D:/__School/__Masters/____2021fALL/5280_aiwearables/video_frames/CLOCKWISE/AW_CLOCKWISE_00001/img_00001.jpg\")"
   ]
  },
  {
   "cell_type": "code",
   "execution_count": 128,
   "id": "3e0f75a0",
   "metadata": {},
   "outputs": [],
   "source": [
    "def generate_annotation_file(input_dir, label_dict, output_dir):\n",
    "    \"\"\"generates an annotation file given an input directory\"\"\"\n",
    "    \n",
    "    # get all file directories\n",
    "    video_dirs = get_video_dir_names(input_dir)\n",
    "    \n",
    "    #open annotation.txt\n",
    "    annotations = open(os.path.join(output_dir), \"a\")\n",
    "    \n",
    "    for video_dir in video_dirs:\n",
    "        # extract start_frame and end_frame number (inclusive)\n",
    "        start_frame, end_frame = get_start_and_end_frame_numbers(video_dir)\n",
    "        \n",
    "        # get label id\n",
    "        label_id = get_class_label_id(video_dir, label_dict)\n",
    "        \n",
    "        #get class_name/video_idx\n",
    "        class_vido_idx = get_class_name_video_id(TEST_VIDEO_DIR)\n",
    "        \n",
    "        #build annotation string\n",
    "        annotation_line_item = class_vido_idx + \" \" + str(start_frame) + \" \" + str(end_frame) + \" \" + str(label_id) + \"\\n\"\n",
    "        \n",
    "        # write to annotation.txt\n",
    "        annotations.write(annotation_line_item)\n",
    "    annotations.close()"
   ]
  },
  {
   "cell_type": "code",
   "execution_count": 129,
   "id": "84f68386",
   "metadata": {},
   "outputs": [],
   "source": [
    "generate_annotation_file(INPUT_FRAMES_DIRECTORY, LABEL_DICT, OUTPUT_DIRECTORY)"
   ]
  },
  {
   "cell_type": "code",
   "execution_count": 92,
   "id": "0999c079",
   "metadata": {},
   "outputs": [],
   "source": [
    "def get_video_dir_names(input_dir):\n",
    "    \"\"\"returns the list of frame_dirs and class_dirs\"\"\"\n",
    "    \n",
    "    # get all file directories\n",
    "    video_fnames = []\n",
    "    for path, subdirs, files in os.walk(input_dir):\n",
    "        for subdir in subdirs:\n",
    "            video_fnames.append(str(Path(os.path.join(path, subdir))))\n",
    "    \n",
    "    # remove the parent class folder directories 0 to 6\n",
    "    return video_fnames[6:]\n",
    "    \n",
    "    # open text file named annotations.txt\n",
    "    \n",
    "    # write to each line of the .txt file:\n",
    "    # <classfoldername>/<videofoldername> <int start frame> <int end frame> <label_id>\n",
    "    # close file"
   ]
  },
  {
   "cell_type": "code",
   "execution_count": 62,
   "id": "5b13a5fd",
   "metadata": {},
   "outputs": [
    {
     "data": {
      "text/plain": [
       "'D:\\\\__School\\\\__Masters\\\\____2021fALL\\\\5280_aiwearables\\\\video_frames\\\\CLOCKWISE\\\\AW_CLOCKWISE_00001'"
      ]
     },
     "execution_count": 62,
     "metadata": {},
     "output_type": "execute_result"
    }
   ],
   "source": [
    "class_dirs = get_video_dir_names(INPUT_FRAMES_DIRECTORY)\n",
    "class_dirs[0]"
   ]
  },
  {
   "cell_type": "code",
   "execution_count": 63,
   "id": "b5f8f8ba",
   "metadata": {},
   "outputs": [],
   "source": [
    "def get_frame_dir_names(input_dir):\n",
    "    \"\"\"given a frames directory returns a list of each frame directory\"\"\"\n",
    "    frames_fnames = []\n",
    "    for path, subdirs, files in os.walk(input_dir):\n",
    "        for file in files:\n",
    "            frames_fnames.append(str(Path(os.path.join(path, file))))\n",
    "    \n",
    "    return frames_fnames"
   ]
  },
  {
   "cell_type": "code",
   "execution_count": 71,
   "id": "cdc0609c",
   "metadata": {},
   "outputs": [
    {
     "name": "stdout",
     "output_type": "stream",
     "text": [
      "D:\\__School\\__Masters\\____2021fALL\\5280_aiwearables\\video_frames\\CLOCKWISE\\AW_CLOCKWISE_00001\\img_00001.jpg\n",
      "46\n"
     ]
    }
   ],
   "source": [
    "frames = get_frame_dir_names(TEST_VIDEO_DIR)\n",
    "print(frames[0])\n",
    "print(len(frames))"
   ]
  },
  {
   "cell_type": "code",
   "execution_count": 51,
   "id": "4f7bfb64",
   "metadata": {},
   "outputs": [],
   "source": [
    "def get_start_and_end_frame_numbers(input_dir):\n",
    "    \"\"\"returns the start and end frame number of a given video directory\"\"\"\n",
    "    start = 1\n",
    "    end = 0\n",
    "    frame_fnames = []\n",
    "    for path, subdirs, files in os.walk(input_dir):\n",
    "        for name in files:\n",
    "            frame_fnames.append(str(Path(os.path.join(path, name))))\n",
    "            \n",
    "    end = len(frame_fnames)\n",
    "    return start, end"
   ]
  },
  {
   "cell_type": "code",
   "execution_count": 52,
   "id": "daf24b54",
   "metadata": {},
   "outputs": [
    {
     "name": "stdout",
     "output_type": "stream",
     "text": [
      "1 46\n"
     ]
    }
   ],
   "source": [
    "start, end = get_start_and_end_frame_numbers(TEST_VIDEO_DIR)\n",
    "print(start, end)"
   ]
  },
  {
   "cell_type": "code",
   "execution_count": 81,
   "id": "14dec190",
   "metadata": {},
   "outputs": [],
   "source": [
    "def get_class_label_id(frame_dir, label_dict):\n",
    "    \"\"\"given a frame directory returns the label id\"\"\"\n",
    "    \n",
    "    #may only work on windows\n",
    "    split_dir = str(frame_dir).split(\"\\\\\")\n",
    "    \n",
    "    for item in split_dir:\n",
    "        if item in label_dict.keys():\n",
    "            class_name = item\n",
    "            \n",
    "    return label_dict[class_name]"
   ]
  },
  {
   "cell_type": "code",
   "execution_count": 82,
   "id": "6101126e",
   "metadata": {},
   "outputs": [
    {
     "data": {
      "text/plain": [
       "0"
      ]
     },
     "execution_count": 82,
     "metadata": {},
     "output_type": "execute_result"
    }
   ],
   "source": [
    "get_class_label_id(TEST_FRAME_DIR, LABEL_DICT)"
   ]
  },
  {
   "cell_type": "code",
   "execution_count": 116,
   "id": "0470a68f",
   "metadata": {},
   "outputs": [],
   "source": [
    "def get_class_name_video_id(video_dir):\n",
    "    \"\"\"given a video_dir returns the class name and the video_idx\"\"\"\n",
    "    split_dir = str(video_dir).split(\"\\\\\")\n",
    "    class_name = split_dir[-2]\n",
    "    video_idx = split_dir[-1].split(\"_\")[-1]\n",
    "    \n",
    "    return \"/\".join([class_name, video_idx])"
   ]
  },
  {
   "cell_type": "code",
   "execution_count": 117,
   "id": "793fdf5f",
   "metadata": {},
   "outputs": [
    {
     "data": {
      "text/plain": [
       "'CLOCKWISE/00001'"
      ]
     },
     "execution_count": 117,
     "metadata": {},
     "output_type": "execute_result"
    }
   ],
   "source": [
    "get_class_name_video_id(TEST_VIDEO_DIR)"
   ]
  },
  {
   "cell_type": "code",
   "execution_count": 58,
   "id": "721211de",
   "metadata": {},
   "outputs": [
    {
     "data": {
      "text/plain": [
       "['D:\\\\__School\\\\__Masters\\\\____2021fALL\\\\5280_aiwearables\\\\video_frames\\\\CLOCKWISE\\\\AW_CLOCKWISE_00001',\n",
       " 'D:\\\\__School\\\\__Masters\\\\____2021fALL\\\\5280_aiwearables\\\\video_frames\\\\CLOCKWISE\\\\AW_CLOCKWISE_00002',\n",
       " 'D:\\\\__School\\\\__Masters\\\\____2021fALL\\\\5280_aiwearables\\\\video_frames\\\\CLOCKWISE\\\\AW_CLOCKWISE_00003',\n",
       " 'D:\\\\__School\\\\__Masters\\\\____2021fALL\\\\5280_aiwearables\\\\video_frames\\\\CLOCKWISE\\\\AW_CLOCKWISE_00004',\n",
       " 'D:\\\\__School\\\\__Masters\\\\____2021fALL\\\\5280_aiwearables\\\\video_frames\\\\CLOCKWISE\\\\AW_CLOCKWISE_00005']"
      ]
     },
     "execution_count": 58,
     "metadata": {},
     "output_type": "execute_result"
    }
   ],
   "source": [
    "class_dirs[:5]"
   ]
  },
  {
   "cell_type": "code",
   "execution_count": null,
   "id": "8392a0f5",
   "metadata": {},
   "outputs": [],
   "source": []
  },
  {
   "cell_type": "code",
   "execution_count": null,
   "id": "b098e7a0",
   "metadata": {},
   "outputs": [],
   "source": []
  },
  {
   "cell_type": "code",
   "execution_count": null,
   "id": "118818bb",
   "metadata": {},
   "outputs": [],
   "source": []
  },
  {
   "cell_type": "code",
   "execution_count": 17,
   "id": "6ad14762",
   "metadata": {},
   "outputs": [],
   "source": []
  },
  {
   "cell_type": "code",
   "execution_count": null,
   "id": "84d02223",
   "metadata": {},
   "outputs": [],
   "source": []
  },
  {
   "cell_type": "code",
   "execution_count": null,
   "id": "78dde9ce",
   "metadata": {},
   "outputs": [],
   "source": []
  }
 ],
 "metadata": {
  "kernelspec": {
   "display_name": "Python 3 (ipykernel)",
   "language": "python",
   "name": "python3"
  },
  "language_info": {
   "codemirror_mode": {
    "name": "ipython",
    "version": 3
   },
   "file_extension": ".py",
   "mimetype": "text/x-python",
   "name": "python",
   "nbconvert_exporter": "python",
   "pygments_lexer": "ipython3",
   "version": "3.9.7"
  }
 },
 "nbformat": 4,
 "nbformat_minor": 5
}
