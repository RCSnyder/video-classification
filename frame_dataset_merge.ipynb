{
 "cells": [
  {
   "cell_type": "code",
   "execution_count": 2,
   "id": "7d6e2329",
   "metadata": {},
   "outputs": [],
   "source": [
    "# This notebook will merge two datasets of frame directories."
   ]
  },
  {
   "cell_type": "code",
   "execution_count": 1,
   "id": "43f23e16",
   "metadata": {},
   "outputs": [],
   "source": [
    "import os\n",
    "from pathlib import Path\n",
    "import cv2\n",
    "import pandas as pd\n",
    "import numpy as np\n",
    "from tqdm import tqdm\n",
    "from tqdm.notebook import tqdm\n",
    "tqdm.pandas()"
   ]
  },
  {
   "cell_type": "code",
   "execution_count": 80,
   "id": "9b801311",
   "metadata": {},
   "outputs": [],
   "source": [
    "FIRST_DIR = Path(\"D:/__School/__Masters/____2021fALL/5280_aiwearables/video_frames\")\n",
    "SECOND_DIR = Path(\"D:/__School/__Masters/____2021fALL/5280_aiwearables/gesture_frames_2nd_iter\")\n",
    "\n",
    "TEST_GESTURE_DIR = Path(\"D:/__School/__Masters/____2021fALL/5280_aiwearables/video_frames/CLOCKWISE\")\n",
    "GESTURE_NAMES = [\"CLOCKWISE\", \"COUNTERCLOCKWISE\", \"DOWN\", \"UP\", \"LEFT\", \"RIGHT\"]\n",
    "\n",
    "TARGET = Path(\"D:/__School/__Masters/____2021fALL/5280_aiwearables/combined_1st_2nd_iter_frames\")"
   ]
  },
  {
   "cell_type": "code",
   "execution_count": 15,
   "id": "dbf366a9",
   "metadata": {},
   "outputs": [],
   "source": [
    "def get_dir_names_all_videos(home_dir):\n",
    "    \"\"\"returns the names in a directories subfolders\"\"\"\n",
    "    video_fnames = []\n",
    "    for path, subdirs, files in os.walk(home_dir):\n",
    "        for name in files:\n",
    "            video_fnames.append(str(Path(os.path.join(path, name))))\n",
    "    return video_fnames"
   ]
  },
  {
   "cell_type": "code",
   "execution_count": 3,
   "id": "bd6ae1ac",
   "metadata": {},
   "outputs": [],
   "source": [
    "# get the list of frame directories of the first_dir\n",
    "first_dirs = get_dir_names_all_videos(FIRST_DIR)\n",
    "\n",
    "# get the list of frame directories of the second_dir\n",
    "second_dirs = get_dir_names_all_videos(SECOND_DIR)\n",
    "\n",
    "# get largest list\n",
    "first_larger = len(first_dirs) > len(second_dirs):\n",
    "\n",
    "# extract max index of each gesture class of largest list\n",
    "first_gesture_indices = {\"CLOCKWISE\": 0, \"COUNTERCLOCKWISE\": 0, \"DOWN\": 0, \"UP\": 0, \"LEFT\": 0, \"RIGHT\": 0}\n",
    "second_gesture_indices = {\"CLOCKWISE\": 0, \"COUNTERCLOCKWISE\": 0, \"DOWN\": 0, \"UP\": 0, \"LEFT\": 0, \"RIGHT\": 0}\n",
    "\n",
    "\n",
    "# loop through the directories of the smaller one and rename each index, indexing from the max of each class"
   ]
  },
  {
   "cell_type": "code",
   "execution_count": 12,
   "id": "9b7348ac",
   "metadata": {},
   "outputs": [],
   "source": [
    "def get_max_index(input_dir):\n",
    "    \"\"\"returns the maximum index of a gesture class directory\"\"\"\n",
    "    fnames = []\n",
    "    for path, subdirs, files in os.walk(input_dir):\n",
    "        for name in subdirs:\n",
    "            fnames.append(str(Path(os.path.join(path, name))))\n",
    "    return int(fnames[-1].split(\"_\")[-1])"
   ]
  },
  {
   "cell_type": "code",
   "execution_count": 13,
   "id": "1638c098",
   "metadata": {},
   "outputs": [
    {
     "data": {
      "text/plain": [
       "73"
      ]
     },
     "execution_count": 13,
     "metadata": {},
     "output_type": "execute_result"
    }
   ],
   "source": [
    "get_max_index(TEST_GESTURE_DIR)"
   ]
  },
  {
   "cell_type": "code",
   "execution_count": 44,
   "id": "69e2985a",
   "metadata": {},
   "outputs": [],
   "source": [
    "def get_class_dirs(input_dir):\n",
    "    \"\"\"return the list of dirs for each gesture\"\"\"\n",
    "    gesture_dirs = []\n",
    "    for path, subdirs, files in os.walk(input_dir):\n",
    "        for name in subdirs:\n",
    "            gesture_dirs.append(str(Path(os.path.join(path, name))))\n",
    "    return gesture_dirs[:6]"
   ]
  },
  {
   "cell_type": "code",
   "execution_count": 50,
   "id": "4985e9b0",
   "metadata": {},
   "outputs": [],
   "source": [
    "def get_max_indices(class_dirs, gestures):\n",
    "    \"\"\"for every class get the max_index, return dictionary\"\"\"\n",
    "    gesture_indices_max = {}\n",
    "    for directory, gesture in zip(class_dirs, gestures):\n",
    "        gesture_indices_max[gesture] = get_max_index(directory)\n",
    "    return gesture_indices_max"
   ]
  },
  {
   "cell_type": "code",
   "execution_count": 58,
   "id": "3577c073",
   "metadata": {},
   "outputs": [],
   "source": [
    "first_class_dirs = get_class_dirs(FIRST_DIR)\n",
    "second_class_dirs = get_class_dirs(SECOND_DIR)\n",
    "first_maxes = get_max_indices(first_class_dirs, GESTURE_NAMES)\n",
    "second_maxes = get_max_indices(second_class_dirs, GESTURE_NAMES)"
   ]
  },
  {
   "cell_type": "code",
   "execution_count": 59,
   "id": "cb35aa10",
   "metadata": {},
   "outputs": [
    {
     "data": {
      "text/plain": [
       "{'CLOCKWISE': 73,\n",
       " 'COUNTERCLOCKWISE': 78,\n",
       " 'DOWN': 78,\n",
       " 'UP': 78,\n",
       " 'LEFT': 79,\n",
       " 'RIGHT': 79}"
      ]
     },
     "execution_count": 59,
     "metadata": {},
     "output_type": "execute_result"
    }
   ],
   "source": [
    "first_maxes"
   ]
  },
  {
   "cell_type": "code",
   "execution_count": 60,
   "id": "71aca59a",
   "metadata": {},
   "outputs": [
    {
     "data": {
      "text/plain": [
       "{'CLOCKWISE': 35,\n",
       " 'COUNTERCLOCKWISE': 35,\n",
       " 'DOWN': 70,\n",
       " 'UP': 70,\n",
       " 'LEFT': 70,\n",
       " 'RIGHT': 70}"
      ]
     },
     "execution_count": 60,
     "metadata": {},
     "output_type": "execute_result"
    }
   ],
   "source": [
    "second_maxes"
   ]
  },
  {
   "cell_type": "code",
   "execution_count": 83,
   "id": "0be523e1",
   "metadata": {},
   "outputs": [],
   "source": [
    "def rename_frame_video_directory(starting_indexes, target_dirs):\n",
    "    \"\"\"construct a list of new names for all of the video directories indices starting at the starting_indices+1\"\"\"\n",
    "    fnames = []\n",
    "    new_fnames = []\n",
    "    for path, subdirs, files in os.walk(target_dirs):\n",
    "        for name in subdirs:\n",
    "            fnames.append(str(Path(os.path.join(path, name))))\n",
    "    \n",
    "    \n",
    "    for i, fname in enumerate(fnames[6:]):\n",
    "        gesture_name = fname.split(\"\\\\\")[-2]\n",
    "        new_index = starting_indexes[gesture_name] + 1 + i\n",
    "        \n",
    "        new_split = fname.split(\"\\\\\")\n",
    "        video_namesplit = new_split[-1].split(\"_\")\n",
    "        video_namesplit[-1] = str(new_index).zfill(5)\n",
    "        \n",
    "        new_video_name = \"_\".join(video_namesplit)\n",
    "        new_split[-1] = new_video_name\n",
    "        new_name = \"\\\\\".join(new_split)\n",
    "        \n",
    "        #os.rename(fname, new_name)\n",
    "        new_fnames.append(new_name)\n",
    "        \n",
    "    return fnames[6:], new_fnames"
   ]
  },
  {
   "cell_type": "code",
   "execution_count": 82,
   "id": "62a40b4f",
   "metadata": {},
   "outputs": [],
   "source": [
    "oldnames, newnames = rename_frame_video_directory(first_maxes, TARGET)"
   ]
  },
  {
   "cell_type": "code",
   "execution_count": 76,
   "id": "a1a1fa8a",
   "metadata": {},
   "outputs": [
    {
     "data": {
      "text/plain": [
       "['D:\\\\__School\\\\__Masters\\\\____2021fALL\\\\5280_aiwearables\\\\gesture_frames_2nd_iter\\\\CLOCKWISE\\\\cooper_s_CLOCKWISE_00001',\n",
       " 'D:\\\\__School\\\\__Masters\\\\____2021fALL\\\\5280_aiwearables\\\\gesture_frames_2nd_iter\\\\CLOCKWISE\\\\cooper_s_CLOCKWISE_00002',\n",
       " 'D:\\\\__School\\\\__Masters\\\\____2021fALL\\\\5280_aiwearables\\\\gesture_frames_2nd_iter\\\\CLOCKWISE\\\\cooper_s_CLOCKWISE_00003']"
      ]
     },
     "execution_count": 76,
     "metadata": {},
     "output_type": "execute_result"
    }
   ],
   "source": [
    "oldnames[:3]"
   ]
  },
  {
   "cell_type": "code",
   "execution_count": 79,
   "id": "54012364",
   "metadata": {},
   "outputs": [
    {
     "data": {
      "text/plain": [
       "['D:\\\\__School\\\\__Masters\\\\____2021fALL\\\\5280_aiwearables\\\\gesture_frames_2nd_iter\\\\CLOCKWISE\\\\cooper_s_CLOCKWISE_00074',\n",
       " 'D:\\\\__School\\\\__Masters\\\\____2021fALL\\\\5280_aiwearables\\\\gesture_frames_2nd_iter\\\\CLOCKWISE\\\\cooper_s_CLOCKWISE_00075',\n",
       " 'D:\\\\__School\\\\__Masters\\\\____2021fALL\\\\5280_aiwearables\\\\gesture_frames_2nd_iter\\\\CLOCKWISE\\\\cooper_s_CLOCKWISE_00076']"
      ]
     },
     "execution_count": 79,
     "metadata": {},
     "output_type": "execute_result"
    }
   ],
   "source": [
    "newnames[:3]"
   ]
  },
  {
   "cell_type": "code",
   "execution_count": null,
   "id": "5dff41f2",
   "metadata": {},
   "outputs": [],
   "source": []
  }
 ],
 "metadata": {
  "kernelspec": {
   "display_name": "Python 3 (ipykernel)",
   "language": "python",
   "name": "python3"
  },
  "language_info": {
   "codemirror_mode": {
    "name": "ipython",
    "version": 3
   },
   "file_extension": ".py",
   "mimetype": "text/x-python",
   "name": "python",
   "nbconvert_exporter": "python",
   "pygments_lexer": "ipython3",
   "version": "3.9.7"
  }
 },
 "nbformat": 4,
 "nbformat_minor": 5
}
