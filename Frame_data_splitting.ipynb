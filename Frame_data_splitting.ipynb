{
 "cells": [
  {
   "cell_type": "code",
   "execution_count": 3,
   "id": "35813c48",
   "metadata": {},
   "outputs": [],
   "source": [
    "# This notebook will take in the directory containing the gesture folders,\n",
    "#     [\"CLOCKWISE\", \"COUNTERCLOCKWISE\", \"DOWN\", \"UP\", \"LEFT\", \"RIGHT\"]\n",
    "\n",
    "# and in each one of those contains a directory for each video in the following format:\n",
    "#     <initials|firstname_initial>_<gesture_class>_<index_value>\n",
    "# and in each one of those contains a series of frame .jpgs of the video in the following format:\n",
    "#     \"img_\"<index>.jpg where the index is zero padded to have 5 digits.\n",
    "\n",
    "# This notebook will generate a pandas dataframe containing the statistical data on participants, gesture, and frame counts\n",
    "\n",
    "# This notebook will allow for a user to choose how to split the data for training, validation, and testing.\n",
    "#     This will probably be done by appending 0, 1, 2 as a new column in the stat_data_df \n",
    "#     And saved as a csv file.\n",
    "\n",
    "# This notebook ought to create a train folder, a validation folder and a test folder in it, as well as an annotation.txt file \n",
    "# to be able to use the generic dataloader for pytorch"
   ]
  },
  {
   "cell_type": "code",
   "execution_count": 5,
   "id": "9546fd4d",
   "metadata": {},
   "outputs": [],
   "source": [
    "import os\n",
    "from pathlib import Path\n",
    "import cv2\n",
    "import pandas as pd\n",
    "import numpy as np\n",
    "from tqdm import tqdm\n",
    "from tqdm.notebook import tqdm\n",
    "tqdm.pandas()"
   ]
  },
  {
   "cell_type": "code",
   "execution_count": 16,
   "id": "639ae1c8",
   "metadata": {},
   "outputs": [],
   "source": [
    "GESTURE_NAMES = [\"CLOCKWISE\", \"COUNTERCLOCKWISE\", \"DOWN\", \"UP\", \"LEFT\", \"RIGHT\"]\n",
    "\n",
    "FRAMES_DIR = Path(\"D:/__School/__Masters/____2021fALL/5280_aiwearables/combined_1st_2nd_iter_frames\")"
   ]
  },
  {
   "cell_type": "code",
   "execution_count": 41,
   "id": "b85d6050",
   "metadata": {},
   "outputs": [],
   "source": [
    "def get_dir_names_all_videos(home_dir):\n",
    "    \"\"\"returns the names of all of the files in a directories subfolders without the parent gesture folders\"\"\"\n",
    "    vid_names = []\n",
    "    for path, subdirs, files in os.walk(home_dir):\n",
    "        for name in subdirs:\n",
    "            vid_names.append(str(Path(os.path.join(path, name))))\n",
    "    return vid_names[6:]"
   ]
  },
  {
   "cell_type": "code",
   "execution_count": 42,
   "id": "46f5bf04",
   "metadata": {},
   "outputs": [
    {
     "data": {
      "text/plain": [
       "['D:\\\\__School\\\\__Masters\\\\____2021fALL\\\\5280_aiwearables\\\\combined_1st_2nd_iter_frames\\\\CLOCKWISE\\\\AW_CLOCKWISE_00001',\n",
       " 'D:\\\\__School\\\\__Masters\\\\____2021fALL\\\\5280_aiwearables\\\\combined_1st_2nd_iter_frames\\\\CLOCKWISE\\\\AW_CLOCKWISE_00002',\n",
       " 'D:\\\\__School\\\\__Masters\\\\____2021fALL\\\\5280_aiwearables\\\\combined_1st_2nd_iter_frames\\\\CLOCKWISE\\\\AW_CLOCKWISE_00003',\n",
       " 'D:\\\\__School\\\\__Masters\\\\____2021fALL\\\\5280_aiwearables\\\\combined_1st_2nd_iter_frames\\\\CLOCKWISE\\\\AW_CLOCKWISE_00004',\n",
       " 'D:\\\\__School\\\\__Masters\\\\____2021fALL\\\\5280_aiwearables\\\\combined_1st_2nd_iter_frames\\\\CLOCKWISE\\\\AW_CLOCKWISE_00005',\n",
       " 'D:\\\\__School\\\\__Masters\\\\____2021fALL\\\\5280_aiwearables\\\\combined_1st_2nd_iter_frames\\\\CLOCKWISE\\\\AW_CLOCKWISE_00006',\n",
       " 'D:\\\\__School\\\\__Masters\\\\____2021fALL\\\\5280_aiwearables\\\\combined_1st_2nd_iter_frames\\\\CLOCKWISE\\\\AW_CLOCKWISE_00007']"
      ]
     },
     "execution_count": 42,
     "metadata": {},
     "output_type": "execute_result"
    }
   ],
   "source": [
    "video_dir_names = get_dir_names_all_videos(FRAMES_DIR)\n",
    "video_dir_names[:7]"
   ]
  },
  {
   "cell_type": "code",
   "execution_count": 43,
   "id": "bf31fce9",
   "metadata": {},
   "outputs": [
    {
     "data": {
      "text/plain": [
       "815"
      ]
     },
     "execution_count": 43,
     "metadata": {},
     "output_type": "execute_result"
    }
   ],
   "source": [
    "len(video_dir_names)"
   ]
  },
  {
   "cell_type": "code",
   "execution_count": 44,
   "id": "6534cb8d",
   "metadata": {},
   "outputs": [
    {
     "data": {
      "text/plain": [
       "['D:',\n",
       " '__School',\n",
       " '__Masters',\n",
       " '____2021fALL',\n",
       " '5280_aiwearables',\n",
       " 'combined_1st_2nd_iter_frames',\n",
       " 'CLOCKWISE',\n",
       " 'AW_CLOCKWISE_00002']"
      ]
     },
     "execution_count": 44,
     "metadata": {},
     "output_type": "execute_result"
    }
   ],
   "source": [
    "video_dir_names[1].split(\"\\\\\")"
   ]
  },
  {
   "cell_type": "code",
   "execution_count": 55,
   "id": "c579ad5b",
   "metadata": {},
   "outputs": [],
   "source": [
    "def create_metadata_df(dir_names):\n",
    "    df_list = []\n",
    "    \n",
    "    for vid_name in dir_names:\n",
    "        \n",
    "        # split video into list \n",
    "        # ['D:','__School','__Masters','____2021fALL',\n",
    "        #  '5280_aiwearables','combined_1st_2nd_iter_frames',\n",
    "        #  'CLOCKWISE','AW_CLOCKWISE_00002']\n",
    "        split_vid_name = vid_name.split(\"\\\\\")\n",
    "        \n",
    "        # get full path\n",
    "        video_path = Path(vid_name)\n",
    "        \n",
    "        # get class name\n",
    "        gesture_class = split_vid_name[-2]\n",
    "        \n",
    "        # get participant_id\n",
    "        video_dir_name_split = split_vid_name[-1].split(\"_\")\n",
    "        if len(video_dir_name_split) == 4:\n",
    "            participant_id = \"_\".join(video_dir_name_split[:2])\n",
    "        else:\n",
    "            participant_id = video_dir_name_split[0]\n",
    "            \n",
    "        # get frame count\n",
    "        frames = os.listdir(vid_name)\n",
    "        num_frames = len(frames)\n",
    "        \n",
    "        df_list.append({\n",
    "            \"full_path\": video_path,\n",
    "            \"gesture\": gesture_class,\n",
    "            \"participant_id\": participant_id,\n",
    "            \"num_frames\": num_frames\n",
    "        })\n",
    "        \n",
    "    df = pd.DataFrame(df_list)\n",
    "    return df\n",
    "        "
   ]
  },
  {
   "cell_type": "code",
   "execution_count": 56,
   "id": "56752770",
   "metadata": {},
   "outputs": [],
   "source": [
    "df = create_metadata_df(video_dir_names)"
   ]
  },
  {
   "cell_type": "code",
   "execution_count": 57,
   "id": "48eb6f6f",
   "metadata": {},
   "outputs": [
    {
     "data": {
      "text/html": [
       "<div>\n",
       "<style scoped>\n",
       "    .dataframe tbody tr th:only-of-type {\n",
       "        vertical-align: middle;\n",
       "    }\n",
       "\n",
       "    .dataframe tbody tr th {\n",
       "        vertical-align: top;\n",
       "    }\n",
       "\n",
       "    .dataframe thead th {\n",
       "        text-align: right;\n",
       "    }\n",
       "</style>\n",
       "<table border=\"1\" class=\"dataframe\">\n",
       "  <thead>\n",
       "    <tr style=\"text-align: right;\">\n",
       "      <th></th>\n",
       "      <th>full_path</th>\n",
       "      <th>gesture</th>\n",
       "      <th>participant_id</th>\n",
       "      <th>num_frames</th>\n",
       "    </tr>\n",
       "  </thead>\n",
       "  <tbody>\n",
       "    <tr>\n",
       "      <th>0</th>\n",
       "      <td>D:\\__School\\__Masters\\____2021fALL\\5280_aiwear...</td>\n",
       "      <td>CLOCKWISE</td>\n",
       "      <td>AW</td>\n",
       "      <td>46</td>\n",
       "    </tr>\n",
       "    <tr>\n",
       "      <th>1</th>\n",
       "      <td>D:\\__School\\__Masters\\____2021fALL\\5280_aiwear...</td>\n",
       "      <td>CLOCKWISE</td>\n",
       "      <td>AW</td>\n",
       "      <td>44</td>\n",
       "    </tr>\n",
       "    <tr>\n",
       "      <th>2</th>\n",
       "      <td>D:\\__School\\__Masters\\____2021fALL\\5280_aiwear...</td>\n",
       "      <td>CLOCKWISE</td>\n",
       "      <td>AW</td>\n",
       "      <td>38</td>\n",
       "    </tr>\n",
       "    <tr>\n",
       "      <th>3</th>\n",
       "      <td>D:\\__School\\__Masters\\____2021fALL\\5280_aiwear...</td>\n",
       "      <td>CLOCKWISE</td>\n",
       "      <td>AW</td>\n",
       "      <td>38</td>\n",
       "    </tr>\n",
       "    <tr>\n",
       "      <th>4</th>\n",
       "      <td>D:\\__School\\__Masters\\____2021fALL\\5280_aiwear...</td>\n",
       "      <td>CLOCKWISE</td>\n",
       "      <td>AW</td>\n",
       "      <td>39</td>\n",
       "    </tr>\n",
       "  </tbody>\n",
       "</table>\n",
       "</div>"
      ],
      "text/plain": [
       "                                           full_path    gesture  \\\n",
       "0  D:\\__School\\__Masters\\____2021fALL\\5280_aiwear...  CLOCKWISE   \n",
       "1  D:\\__School\\__Masters\\____2021fALL\\5280_aiwear...  CLOCKWISE   \n",
       "2  D:\\__School\\__Masters\\____2021fALL\\5280_aiwear...  CLOCKWISE   \n",
       "3  D:\\__School\\__Masters\\____2021fALL\\5280_aiwear...  CLOCKWISE   \n",
       "4  D:\\__School\\__Masters\\____2021fALL\\5280_aiwear...  CLOCKWISE   \n",
       "\n",
       "  participant_id  num_frames  \n",
       "0             AW          46  \n",
       "1             AW          44  \n",
       "2             AW          38  \n",
       "3             AW          38  \n",
       "4             AW          39  "
      ]
     },
     "execution_count": 57,
     "metadata": {},
     "output_type": "execute_result"
    }
   ],
   "source": [
    "df.head()"
   ]
  },
  {
   "cell_type": "code",
   "execution_count": 58,
   "id": "e12d07af",
   "metadata": {},
   "outputs": [
    {
     "data": {
      "text/plain": [
       "MCM           72\n",
       "AW            60\n",
       "JBG           60\n",
       "KP            60\n",
       "SP            60\n",
       "SNB           51\n",
       "Ian_z         50\n",
       "emmanuel_z    50\n",
       "cooper_s      50\n",
       "Lori_L        50\n",
       "Madeline_U    50\n",
       "Daniel_M      50\n",
       "Miguel_Q      50\n",
       "IA            42\n",
       "RAM           30\n",
       "IM            12\n",
       "RCS           12\n",
       "KH             6\n",
       "Name: participant_id, dtype: int64"
      ]
     },
     "execution_count": 58,
     "metadata": {},
     "output_type": "execute_result"
    }
   ],
   "source": [
    "df.participant_id.value_counts()"
   ]
  },
  {
   "cell_type": "code",
   "execution_count": null,
   "id": "cdf02728",
   "metadata": {},
   "outputs": [],
   "source": []
  }
 ],
 "metadata": {
  "kernelspec": {
   "display_name": "Python 3 (ipykernel)",
   "language": "python",
   "name": "python3"
  },
  "language_info": {
   "codemirror_mode": {
    "name": "ipython",
    "version": 3
   },
   "file_extension": ".py",
   "mimetype": "text/x-python",
   "name": "python",
   "nbconvert_exporter": "python",
   "pygments_lexer": "ipython3",
   "version": "3.9.7"
  }
 },
 "nbformat": 4,
 "nbformat_minor": 5
}
