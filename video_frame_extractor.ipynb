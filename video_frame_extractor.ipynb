{
 "cells": [
  {
   "cell_type": "markdown",
   "id": "3824becc",
   "metadata": {},
   "source": [
    "### This notebook will extract the frames of a video and put them into another folder"
   ]
  },
  {
   "cell_type": "code",
   "execution_count": 1,
   "id": "44bc1c6b",
   "metadata": {},
   "outputs": [],
   "source": [
    "import os\n",
    "from pathlib import Path\n",
    "import cv2\n",
    "import pandas as pd\n",
    "import numpy as np\n",
    "from tqdm import tqdm\n",
    "from tqdm.notebook import tqdm\n",
    "tqdm.pandas()"
   ]
  },
  {
   "cell_type": "code",
   "execution_count": 2,
   "id": "c4084400",
   "metadata": {},
   "outputs": [],
   "source": [
    "ORIGINAL_VIDEO_DIRECTORY = Path(\"D:/__School/__Masters/____2021fALL/5280_aiwearables/videos_for_classification\")\n",
    "SINGLE_SUBJECT_DIR = Path(\"D:/__School/__Masters/____2021fALL/5280_aiwearables/videos_for_classification/AW\")\n",
    "SINGLE_VIDEO_DIR = Path(\"D:/__School/__Masters/____2021fALL/5280_aiwearables/videos_for_classification/AW/CLOCKWISE/WIN_20210913_17_35_36_Pro.MP4\")\n",
    "TEST_TARGET_DIR = Path(\"D:/__School/__Masters/____2021fALL/5280_aiwearables/test_target_dir\")\n",
    "GESTURE_NAMES = [\"CLOCKWISE\", \"COUNTERCLOCKWISE\", \"DOWN\", \"UP\", \"LEFT\", \"RIGHT\",] "
   ]
  },
  {
   "cell_type": "code",
   "execution_count": 3,
   "id": "a8ab7743",
   "metadata": {},
   "outputs": [],
   "source": [
    "OUTPUT_DIR = Path(\"D:/__School/__Masters/____2021fALL/5280_aiwearables/class_videos/test\")"
   ]
  },
  {
   "cell_type": "code",
   "execution_count": 4,
   "id": "3c6bde5f",
   "metadata": {},
   "outputs": [],
   "source": [
    "def video_to_frames(input_dir, output_dir):\n",
    "    \"\"\"take in a video from input_dir and output the frames to the output_dir\"\"\"\n",
    "    video = cv2.VideoCapture(str(input_dir))\n",
    "    frame_count = int(video.get(cv2.CAP_PROP_FRAME_COUNT))\n",
    "    for i in range(0, frame_count):\n",
    "        success, image = video.read()\n",
    "        if (image.size == 0):\n",
    "            continue\n",
    "        cv2.imwrite( str(output_dir) + f\"\\\\img_{i+1:05d}.jpg\", image)     # save frame as JPEG file"
   ]
  },
  {
   "cell_type": "code",
   "execution_count": 5,
   "id": "7c7bc28d",
   "metadata": {},
   "outputs": [],
   "source": [
    "video_to_frames(SINGLE_VIDEO_DIR, OUTPUT_DIR)"
   ]
  },
  {
   "cell_type": "code",
   "execution_count": 6,
   "id": "2aa8f88c",
   "metadata": {},
   "outputs": [],
   "source": [
    "def get_frame_rate(video_dir):\n",
    "    \"\"\"returns the frames_per_second of a recorded video\"\"\"\n",
    "    frames_per_second = None\n",
    "    video = cv2.VideoCapture(str(video_dir))\n",
    "    frames_per_second = video.get(cv2.CAP_PROP_FPS)\n",
    "    video.release()\n",
    "    return frames_per_second"
   ]
  },
  {
   "cell_type": "code",
   "execution_count": 7,
   "id": "c4e43670",
   "metadata": {},
   "outputs": [
    {
     "data": {
      "text/plain": [
       "15.220196539059657"
      ]
     },
     "execution_count": 7,
     "metadata": {},
     "output_type": "execute_result"
    }
   ],
   "source": [
    "get_frame_rate(SINGLE_VIDEO_DIR)"
   ]
  },
  {
   "cell_type": "code",
   "execution_count": 8,
   "id": "1ca656ff",
   "metadata": {},
   "outputs": [],
   "source": [
    "def get_frame_count(video_dir):\n",
    "    frame_count = None\n",
    "    video = cv2.VideoCapture(str(video_dir))\n",
    "    frame_count = int(video.get(cv2.CAP_PROP_FRAME_COUNT))\n",
    "    video.release()\n",
    "    return frame_count"
   ]
  },
  {
   "cell_type": "code",
   "execution_count": 9,
   "id": "bdd2595b",
   "metadata": {},
   "outputs": [
    {
     "data": {
      "text/plain": [
       "46"
      ]
     },
     "execution_count": 9,
     "metadata": {},
     "output_type": "execute_result"
    }
   ],
   "source": [
    "get_frame_count(SINGLE_VIDEO_DIR)"
   ]
  },
  {
   "cell_type": "code",
   "execution_count": 10,
   "id": "ae70b284",
   "metadata": {},
   "outputs": [],
   "source": [
    "def get_duration_seconds(video_dir):\n",
    "    duration = None\n",
    "    duration = get_frame_count(video_dir) / get_frame_rate(video_dir)\n",
    "    return duration"
   ]
  },
  {
   "cell_type": "code",
   "execution_count": 11,
   "id": "a82033fa",
   "metadata": {},
   "outputs": [
    {
     "data": {
      "text/plain": [
       "3.0223"
      ]
     },
     "execution_count": 11,
     "metadata": {},
     "output_type": "execute_result"
    }
   ],
   "source": [
    "get_duration_seconds(SINGLE_VIDEO_DIR)"
   ]
  },
  {
   "cell_type": "code",
   "execution_count": 12,
   "id": "4692b55b",
   "metadata": {},
   "outputs": [],
   "source": [
    "def get_dir_names_all_videos(home_dir):\n",
    "    \"\"\"returns the fps and length of every video in a directories subfolders\"\"\"\n",
    "    video_fnames = []\n",
    "    for path, subdirs, files in os.walk(home_dir):\n",
    "        for name in files:\n",
    "            video_fnames.append(str(Path(os.path.join(path, name))))\n",
    "    return video_fnames"
   ]
  },
  {
   "cell_type": "code",
   "execution_count": 13,
   "id": "c304762f",
   "metadata": {},
   "outputs": [],
   "source": [
    "video_dir_names = get_dir_names_all_videos(ORIGINAL_VIDEO_DIRECTORY)"
   ]
  },
  {
   "cell_type": "code",
   "execution_count": 14,
   "id": "a145b16b",
   "metadata": {},
   "outputs": [
    {
     "data": {
      "text/plain": [
       "465"
      ]
     },
     "execution_count": 14,
     "metadata": {},
     "output_type": "execute_result"
    }
   ],
   "source": [
    "len(video_dir_names)"
   ]
  },
  {
   "cell_type": "code",
   "execution_count": 15,
   "id": "a4f1fbb7",
   "metadata": {},
   "outputs": [
    {
     "data": {
      "text/plain": [
       "'D:\\\\__School\\\\__Masters\\\\____2021fALL\\\\5280_aiwearables\\\\videos_for_classification\\\\AW\\\\CLOCKWISE\\\\WIN_20210913_17_35_42_Pro.mp4'"
      ]
     },
     "execution_count": 15,
     "metadata": {},
     "output_type": "execute_result"
    }
   ],
   "source": [
    "video_dir_names[1]"
   ]
  },
  {
   "cell_type": "code",
   "execution_count": 16,
   "id": "0029b82f",
   "metadata": {},
   "outputs": [
    {
     "data": {
      "text/plain": [
       "'AW'"
      ]
     },
     "execution_count": 16,
     "metadata": {},
     "output_type": "execute_result"
    }
   ],
   "source": [
    "video_dir_names[1].split(\"\\\\\")[-3]"
   ]
  },
  {
   "cell_type": "code",
   "execution_count": 17,
   "id": "de0021c8",
   "metadata": {},
   "outputs": [
    {
     "data": {
      "text/plain": [
       "'CLOCKWISE'"
      ]
     },
     "execution_count": 17,
     "metadata": {},
     "output_type": "execute_result"
    }
   ],
   "source": [
    "video_dir_names[1].split(\"\\\\\")[-2]"
   ]
  },
  {
   "cell_type": "code",
   "execution_count": 18,
   "id": "50fcd13b",
   "metadata": {},
   "outputs": [
    {
     "data": {
      "text/plain": [
       "'WIN_20210913_17_35_42_Pro.mp4'"
      ]
     },
     "execution_count": 18,
     "metadata": {},
     "output_type": "execute_result"
    }
   ],
   "source": [
    "video_dir_names[1].split(\"\\\\\")[-1]"
   ]
  },
  {
   "cell_type": "code",
   "execution_count": 19,
   "id": "0a07e24c",
   "metadata": {},
   "outputs": [],
   "source": [
    "def get_metadata_all_videos(video_dir_names):\n",
    "    fps_length_data = []\n",
    "    \n",
    "    for i, vid_dir in enumerate(video_dir_names):\n",
    "        if i % 100 == 0:\n",
    "            print(f\"processing {i} of {len(video_dir_names)}...\")\n",
    "        split_dir = vid_dir.split(\"\\\\\")\n",
    "        fname = split_dir[-1]\n",
    "        gesture_name = split_dir[-2].replace(\" \", \"\").upper()\n",
    "        subject_initials = split_dir[-3]\n",
    "        \n",
    "        video = cv2.VideoCapture(str(vid_dir))\n",
    "        fps = video.get(cv2.CAP_PROP_FPS)\n",
    "        frame_count = int(video.get(cv2.CAP_PROP_FRAME_COUNT))\n",
    "        duration_seconds = frame_count / fps\n",
    "        \n",
    "        fps_length_data.append({\"file_name\": fname,\n",
    "                                \"subject_initials\": subject_initials,\n",
    "                                \"gesture_name\": gesture_name,\n",
    "                                \"frames_per_second\": fps,\n",
    "                                \"frame_count\": frame_count,\n",
    "                                \"duration_seconds\": duration_seconds,\n",
    "                                \"dir_name\": vid_dir})\n",
    "    df = pd.DataFrame(fps_length_data)\n",
    "    print(\"Done!\")\n",
    "    return df"
   ]
  },
  {
   "cell_type": "code",
   "execution_count": 20,
   "id": "39f93c0f",
   "metadata": {},
   "outputs": [
    {
     "name": "stdout",
     "output_type": "stream",
     "text": [
      "processing 0 of 465...\n",
      "processing 100 of 465...\n",
      "processing 200 of 465...\n",
      "processing 300 of 465...\n",
      "processing 400 of 465...\n",
      "Done!\n"
     ]
    }
   ],
   "source": [
    "df = get_metadata_all_videos(video_dir_names)"
   ]
  },
  {
   "cell_type": "code",
   "execution_count": 21,
   "id": "c56b085f",
   "metadata": {},
   "outputs": [
    {
     "data": {
      "text/html": [
       "<div>\n",
       "<style scoped>\n",
       "    .dataframe tbody tr th:only-of-type {\n",
       "        vertical-align: middle;\n",
       "    }\n",
       "\n",
       "    .dataframe tbody tr th {\n",
       "        vertical-align: top;\n",
       "    }\n",
       "\n",
       "    .dataframe thead th {\n",
       "        text-align: right;\n",
       "    }\n",
       "</style>\n",
       "<table border=\"1\" class=\"dataframe\">\n",
       "  <thead>\n",
       "    <tr style=\"text-align: right;\">\n",
       "      <th></th>\n",
       "      <th>file_name</th>\n",
       "      <th>subject_initials</th>\n",
       "      <th>gesture_name</th>\n",
       "      <th>frames_per_second</th>\n",
       "      <th>frame_count</th>\n",
       "      <th>duration_seconds</th>\n",
       "      <th>dir_name</th>\n",
       "    </tr>\n",
       "  </thead>\n",
       "  <tbody>\n",
       "    <tr>\n",
       "      <th>0</th>\n",
       "      <td>WIN_20210913_17_35_36_Pro.mp4</td>\n",
       "      <td>AW</td>\n",
       "      <td>CLOCKWISE</td>\n",
       "      <td>15.220197</td>\n",
       "      <td>46</td>\n",
       "      <td>3.022300</td>\n",
       "      <td>D:\\__School\\__Masters\\____2021fALL\\5280_aiwear...</td>\n",
       "    </tr>\n",
       "    <tr>\n",
       "      <th>1</th>\n",
       "      <td>WIN_20210913_17_35_42_Pro.mp4</td>\n",
       "      <td>AW</td>\n",
       "      <td>CLOCKWISE</td>\n",
       "      <td>15.282554</td>\n",
       "      <td>44</td>\n",
       "      <td>2.879100</td>\n",
       "      <td>D:\\__School\\__Masters\\____2021fALL\\5280_aiwear...</td>\n",
       "    </tr>\n",
       "    <tr>\n",
       "      <th>2</th>\n",
       "      <td>WIN_20210913_17_35_47_Pro.mp4</td>\n",
       "      <td>AW</td>\n",
       "      <td>CLOCKWISE</td>\n",
       "      <td>15.269425</td>\n",
       "      <td>38</td>\n",
       "      <td>2.488633</td>\n",
       "      <td>D:\\__School\\__Masters\\____2021fALL\\5280_aiwear...</td>\n",
       "    </tr>\n",
       "    <tr>\n",
       "      <th>3</th>\n",
       "      <td>WIN_20210913_17_35_52_Pro.mp4</td>\n",
       "      <td>AW</td>\n",
       "      <td>CLOCKWISE</td>\n",
       "      <td>15.248184</td>\n",
       "      <td>38</td>\n",
       "      <td>2.492100</td>\n",
       "      <td>D:\\__School\\__Masters\\____2021fALL\\5280_aiwear...</td>\n",
       "    </tr>\n",
       "    <tr>\n",
       "      <th>4</th>\n",
       "      <td>WIN_20210913_17_35_56_Pro.mp4</td>\n",
       "      <td>AW</td>\n",
       "      <td>CLOCKWISE</td>\n",
       "      <td>15.213773</td>\n",
       "      <td>39</td>\n",
       "      <td>2.563467</td>\n",
       "      <td>D:\\__School\\__Masters\\____2021fALL\\5280_aiwear...</td>\n",
       "    </tr>\n",
       "    <tr>\n",
       "      <th>...</th>\n",
       "      <td>...</td>\n",
       "      <td>...</td>\n",
       "      <td>...</td>\n",
       "      <td>...</td>\n",
       "      <td>...</td>\n",
       "      <td>...</td>\n",
       "      <td>...</td>\n",
       "    </tr>\n",
       "    <tr>\n",
       "      <th>460</th>\n",
       "      <td>WIN_20211003_15_41_36_Pro.mp4</td>\n",
       "      <td>SP</td>\n",
       "      <td>UP</td>\n",
       "      <td>30.187100</td>\n",
       "      <td>101</td>\n",
       "      <td>3.345800</td>\n",
       "      <td>D:\\__School\\__Masters\\____2021fALL\\5280_aiwear...</td>\n",
       "    </tr>\n",
       "    <tr>\n",
       "      <th>461</th>\n",
       "      <td>WIN_20211003_15_41_42_Pro.mp4</td>\n",
       "      <td>SP</td>\n",
       "      <td>UP</td>\n",
       "      <td>30.279850</td>\n",
       "      <td>95</td>\n",
       "      <td>3.137400</td>\n",
       "      <td>D:\\__School\\__Masters\\____2021fALL\\5280_aiwear...</td>\n",
       "    </tr>\n",
       "    <tr>\n",
       "      <th>462</th>\n",
       "      <td>WIN_20211003_15_41_47_Pro.mp4</td>\n",
       "      <td>SP</td>\n",
       "      <td>UP</td>\n",
       "      <td>30.139188</td>\n",
       "      <td>110</td>\n",
       "      <td>3.649733</td>\n",
       "      <td>D:\\__School\\__Masters\\____2021fALL\\5280_aiwear...</td>\n",
       "    </tr>\n",
       "    <tr>\n",
       "      <th>463</th>\n",
       "      <td>WIN_20211003_15_41_53_Pro.mp4</td>\n",
       "      <td>SP</td>\n",
       "      <td>UP</td>\n",
       "      <td>30.165147</td>\n",
       "      <td>99</td>\n",
       "      <td>3.281933</td>\n",
       "      <td>D:\\__School\\__Masters\\____2021fALL\\5280_aiwear...</td>\n",
       "    </tr>\n",
       "    <tr>\n",
       "      <th>464</th>\n",
       "      <td>WIN_20211003_15_41_59_Pro.mp4</td>\n",
       "      <td>SP</td>\n",
       "      <td>UP</td>\n",
       "      <td>30.203131</td>\n",
       "      <td>102</td>\n",
       "      <td>3.377133</td>\n",
       "      <td>D:\\__School\\__Masters\\____2021fALL\\5280_aiwear...</td>\n",
       "    </tr>\n",
       "  </tbody>\n",
       "</table>\n",
       "<p>465 rows × 7 columns</p>\n",
       "</div>"
      ],
      "text/plain": [
       "                         file_name subject_initials gesture_name  \\\n",
       "0    WIN_20210913_17_35_36_Pro.mp4               AW    CLOCKWISE   \n",
       "1    WIN_20210913_17_35_42_Pro.mp4               AW    CLOCKWISE   \n",
       "2    WIN_20210913_17_35_47_Pro.mp4               AW    CLOCKWISE   \n",
       "3    WIN_20210913_17_35_52_Pro.mp4               AW    CLOCKWISE   \n",
       "4    WIN_20210913_17_35_56_Pro.mp4               AW    CLOCKWISE   \n",
       "..                             ...              ...          ...   \n",
       "460  WIN_20211003_15_41_36_Pro.mp4               SP           UP   \n",
       "461  WIN_20211003_15_41_42_Pro.mp4               SP           UP   \n",
       "462  WIN_20211003_15_41_47_Pro.mp4               SP           UP   \n",
       "463  WIN_20211003_15_41_53_Pro.mp4               SP           UP   \n",
       "464  WIN_20211003_15_41_59_Pro.mp4               SP           UP   \n",
       "\n",
       "     frames_per_second  frame_count  duration_seconds  \\\n",
       "0            15.220197           46          3.022300   \n",
       "1            15.282554           44          2.879100   \n",
       "2            15.269425           38          2.488633   \n",
       "3            15.248184           38          2.492100   \n",
       "4            15.213773           39          2.563467   \n",
       "..                 ...          ...               ...   \n",
       "460          30.187100          101          3.345800   \n",
       "461          30.279850           95          3.137400   \n",
       "462          30.139188          110          3.649733   \n",
       "463          30.165147           99          3.281933   \n",
       "464          30.203131          102          3.377133   \n",
       "\n",
       "                                              dir_name  \n",
       "0    D:\\__School\\__Masters\\____2021fALL\\5280_aiwear...  \n",
       "1    D:\\__School\\__Masters\\____2021fALL\\5280_aiwear...  \n",
       "2    D:\\__School\\__Masters\\____2021fALL\\5280_aiwear...  \n",
       "3    D:\\__School\\__Masters\\____2021fALL\\5280_aiwear...  \n",
       "4    D:\\__School\\__Masters\\____2021fALL\\5280_aiwear...  \n",
       "..                                                 ...  \n",
       "460  D:\\__School\\__Masters\\____2021fALL\\5280_aiwear...  \n",
       "461  D:\\__School\\__Masters\\____2021fALL\\5280_aiwear...  \n",
       "462  D:\\__School\\__Masters\\____2021fALL\\5280_aiwear...  \n",
       "463  D:\\__School\\__Masters\\____2021fALL\\5280_aiwear...  \n",
       "464  D:\\__School\\__Masters\\____2021fALL\\5280_aiwear...  \n",
       "\n",
       "[465 rows x 7 columns]"
      ]
     },
     "execution_count": 21,
     "metadata": {},
     "output_type": "execute_result"
    }
   ],
   "source": [
    "df"
   ]
  },
  {
   "cell_type": "code",
   "execution_count": 22,
   "id": "f92688b2",
   "metadata": {},
   "outputs": [],
   "source": [
    "df[\"rounded_fps\"] = df.frames_per_second.round()"
   ]
  },
  {
   "cell_type": "code",
   "execution_count": 23,
   "id": "66155beb",
   "metadata": {},
   "outputs": [
    {
     "data": {
      "text/plain": [
       "30.0    319\n",
       "15.0     71\n",
       "29.0     59\n",
       "27.0      8\n",
       "26.0      4\n",
       "28.0      3\n",
       "14.0      1\n",
       "Name: rounded_fps, dtype: int64"
      ]
     },
     "execution_count": 23,
     "metadata": {},
     "output_type": "execute_result"
    }
   ],
   "source": [
    "df.rounded_fps.value_counts()"
   ]
  },
  {
   "cell_type": "code",
   "execution_count": 24,
   "id": "76940216",
   "metadata": {},
   "outputs": [
    {
     "data": {
      "text/html": [
       "<div>\n",
       "<style scoped>\n",
       "    .dataframe tbody tr th:only-of-type {\n",
       "        vertical-align: middle;\n",
       "    }\n",
       "\n",
       "    .dataframe tbody tr th {\n",
       "        vertical-align: top;\n",
       "    }\n",
       "\n",
       "    .dataframe thead th {\n",
       "        text-align: right;\n",
       "    }\n",
       "</style>\n",
       "<table border=\"1\" class=\"dataframe\">\n",
       "  <thead>\n",
       "    <tr style=\"text-align: right;\">\n",
       "      <th></th>\n",
       "      <th>frames_per_second</th>\n",
       "      <th>frame_count</th>\n",
       "      <th>duration_seconds</th>\n",
       "      <th>rounded_fps</th>\n",
       "    </tr>\n",
       "  </thead>\n",
       "  <tbody>\n",
       "    <tr>\n",
       "      <th>count</th>\n",
       "      <td>465.000000</td>\n",
       "      <td>465.000000</td>\n",
       "      <td>465.000000</td>\n",
       "      <td>465.000000</td>\n",
       "    </tr>\n",
       "    <tr>\n",
       "      <th>mean</th>\n",
       "      <td>27.530030</td>\n",
       "      <td>79.210753</td>\n",
       "      <td>2.866810</td>\n",
       "      <td>27.449462</td>\n",
       "    </tr>\n",
       "    <tr>\n",
       "      <th>std</th>\n",
       "      <td>5.325024</td>\n",
       "      <td>25.831489</td>\n",
       "      <td>0.701928</td>\n",
       "      <td>5.376566</td>\n",
       "    </tr>\n",
       "    <tr>\n",
       "      <th>min</th>\n",
       "      <td>14.445413</td>\n",
       "      <td>30.000000</td>\n",
       "      <td>1.009600</td>\n",
       "      <td>14.000000</td>\n",
       "    </tr>\n",
       "    <tr>\n",
       "      <th>25%</th>\n",
       "      <td>29.354439</td>\n",
       "      <td>49.000000</td>\n",
       "      <td>2.560467</td>\n",
       "      <td>29.000000</td>\n",
       "    </tr>\n",
       "    <tr>\n",
       "      <th>50%</th>\n",
       "      <td>29.973941</td>\n",
       "      <td>87.000000</td>\n",
       "      <td>2.966667</td>\n",
       "      <td>30.000000</td>\n",
       "    </tr>\n",
       "    <tr>\n",
       "      <th>75%</th>\n",
       "      <td>30.001429</td>\n",
       "      <td>99.000000</td>\n",
       "      <td>3.313567</td>\n",
       "      <td>30.000000</td>\n",
       "    </tr>\n",
       "    <tr>\n",
       "      <th>max</th>\n",
       "      <td>30.333219</td>\n",
       "      <td>133.000000</td>\n",
       "      <td>4.689567</td>\n",
       "      <td>30.000000</td>\n",
       "    </tr>\n",
       "  </tbody>\n",
       "</table>\n",
       "</div>"
      ],
      "text/plain": [
       "       frames_per_second  frame_count  duration_seconds  rounded_fps\n",
       "count         465.000000   465.000000        465.000000   465.000000\n",
       "mean           27.530030    79.210753          2.866810    27.449462\n",
       "std             5.325024    25.831489          0.701928     5.376566\n",
       "min            14.445413    30.000000          1.009600    14.000000\n",
       "25%            29.354439    49.000000          2.560467    29.000000\n",
       "50%            29.973941    87.000000          2.966667    30.000000\n",
       "75%            30.001429    99.000000          3.313567    30.000000\n",
       "max            30.333219   133.000000          4.689567    30.000000"
      ]
     },
     "execution_count": 24,
     "metadata": {},
     "output_type": "execute_result"
    }
   ],
   "source": [
    "df.describe()"
   ]
  },
  {
   "cell_type": "code",
   "execution_count": 25,
   "id": "424e0233",
   "metadata": {},
   "outputs": [
    {
     "data": {
      "text/plain": [
       "MCM    72\n",
       "AW     60\n",
       "JBG    60\n",
       "KP     60\n",
       "SP     60\n",
       "SNB    51\n",
       "IA     42\n",
       "RAM    30\n",
       "IM     12\n",
       "RCS    12\n",
       "KH      6\n",
       "Name: subject_initials, dtype: int64"
      ]
     },
     "execution_count": 25,
     "metadata": {},
     "output_type": "execute_result"
    }
   ],
   "source": [
    "df.subject_initials.value_counts()"
   ]
  },
  {
   "cell_type": "code",
   "execution_count": 26,
   "id": "34ded770",
   "metadata": {},
   "outputs": [
    {
     "data": {
      "text/plain": [
       "RIGHT               79\n",
       "UP                  79\n",
       "COUNTERCLOCKWISE    78\n",
       "DOWN                78\n",
       "LEFT                78\n",
       "CLOCKWISE           73\n",
       "Name: gesture_name, dtype: int64"
      ]
     },
     "execution_count": 26,
     "metadata": {},
     "output_type": "execute_result"
    }
   ],
   "source": [
    "df.gesture_name.value_counts()"
   ]
  },
  {
   "cell_type": "code",
   "execution_count": 27,
   "id": "c040f4f4",
   "metadata": {},
   "outputs": [
    {
     "data": {
      "text/plain": [
       "30.000000    53\n",
       "30.001765     4\n",
       "15.243902     3\n",
       "29.965560     3\n",
       "30.001456     3\n",
       "             ..\n",
       "29.989595     1\n",
       "30.163444     1\n",
       "29.763063     1\n",
       "29.997551     1\n",
       "30.203131     1\n",
       "Name: frames_per_second, Length: 378, dtype: int64"
      ]
     },
     "execution_count": 27,
     "metadata": {},
     "output_type": "execute_result"
    }
   ],
   "source": [
    "df.frames_per_second.value_counts()"
   ]
  },
  {
   "cell_type": "code",
   "execution_count": 28,
   "id": "badc17a3",
   "metadata": {},
   "outputs": [
    {
     "data": {
      "text/plain": [
       "102    16\n",
       "87     15\n",
       "95     13\n",
       "97     13\n",
       "91     12\n",
       "       ..\n",
       "66      1\n",
       "117     1\n",
       "69      1\n",
       "70      1\n",
       "127     1\n",
       "Name: frame_count, Length: 92, dtype: int64"
      ]
     },
     "execution_count": 28,
     "metadata": {},
     "output_type": "execute_result"
    }
   ],
   "source": [
    "df.frame_count.value_counts()"
   ]
  },
  {
   "cell_type": "code",
   "execution_count": 29,
   "id": "900701b1",
   "metadata": {},
   "outputs": [
    {
     "data": {
      "text/plain": [
       "3.0    291\n",
       "2.0     79\n",
       "4.0     62\n",
       "1.0     31\n",
       "5.0      2\n",
       "Name: duration_seconds, dtype: int64"
      ]
     },
     "execution_count": 29,
     "metadata": {},
     "output_type": "execute_result"
    }
   ],
   "source": [
    "df.duration_seconds.round().value_counts()"
   ]
  },
  {
   "cell_type": "code",
   "execution_count": null,
   "id": "80e2da99",
   "metadata": {},
   "outputs": [],
   "source": []
  },
  {
   "cell_type": "code",
   "execution_count": 37,
   "id": "428cfb2e",
   "metadata": {},
   "outputs": [],
   "source": [
    "def build_frames_directory(df, target_directory, gesture_names):\n",
    "    \"\"\"builds a directory for each class, and in each class a folder name\"\"\"\n",
    "    \n",
    "    def for_each_row(row):\n",
    "        # make internal video directories\n",
    "        gesture_dir = Path(target_directory).joinpath(row.gesture_name)\n",
    "        video_dir = gesture_dir.joinpath(row.gesture_video_foldername)\n",
    "        video_dir.mkdir(parents=True, exist_ok=True)\n",
    "        \n",
    "    for gesture_name in gesture_names:\n",
    "        # make class directories\n",
    "        gesture_directory = Path(target_directory).joinpath(gesture_name)\n",
    "        gesture_directory.mkdir(parents=True, exist_ok=True)\n",
    "    \n",
    "    df.apply(for_each_row, axis=1)"
   ]
  },
  {
   "cell_type": "code",
   "execution_count": 31,
   "id": "c57d7e9c",
   "metadata": {},
   "outputs": [],
   "source": [
    "def create_video_folder_names(df, gesture_names):\n",
    "    \"\"\"returns a dataframe with a new column formatted \n",
    "    <subject_initials>_<gesture_name>_<incremented_id>\n",
    "    based on gesture classes\"\"\"\n",
    "    df_list = []\n",
    "    \n",
    "    def for_each_row(row):\n",
    "        # build video filename\n",
    "        folder_name = f\"{row.subject_initials}_{row.gesture_name}_{row.increment_id:05d}\"\n",
    "        return folder_name\n",
    "    \n",
    "    for gesture_name in gesture_names:\n",
    "         # creates a new dataframe with increment values for each gesture\n",
    "        dff = df[df[\"gesture_name\"] == gesture_name].copy()\n",
    "        dff[\"increment_id\"] = np.arange(1, dff.shape[0]+1)\n",
    "        dff[\"gesture_video_foldername\"] = dff.apply(for_each_row, axis=1)\n",
    "        df_list.append(dff)\n",
    "    \n",
    "        \n",
    "    dff = pd.concat(df_list)\n",
    "    dff.reset_index(drop=True, inplace=True)\n",
    "    return dff"
   ]
  },
  {
   "cell_type": "code",
   "execution_count": 32,
   "id": "04ed0cfc",
   "metadata": {},
   "outputs": [],
   "source": [
    "df = create_video_folder_names(df, GESTURE_NAMES)"
   ]
  },
  {
   "cell_type": "code",
   "execution_count": 33,
   "id": "04a8ae3f",
   "metadata": {},
   "outputs": [
    {
     "data": {
      "text/html": [
       "<div>\n",
       "<style scoped>\n",
       "    .dataframe tbody tr th:only-of-type {\n",
       "        vertical-align: middle;\n",
       "    }\n",
       "\n",
       "    .dataframe tbody tr th {\n",
       "        vertical-align: top;\n",
       "    }\n",
       "\n",
       "    .dataframe thead th {\n",
       "        text-align: right;\n",
       "    }\n",
       "</style>\n",
       "<table border=\"1\" class=\"dataframe\">\n",
       "  <thead>\n",
       "    <tr style=\"text-align: right;\">\n",
       "      <th></th>\n",
       "      <th>file_name</th>\n",
       "      <th>subject_initials</th>\n",
       "      <th>gesture_name</th>\n",
       "      <th>frames_per_second</th>\n",
       "      <th>frame_count</th>\n",
       "      <th>duration_seconds</th>\n",
       "      <th>dir_name</th>\n",
       "      <th>rounded_fps</th>\n",
       "      <th>increment_id</th>\n",
       "      <th>gesture_video_foldername</th>\n",
       "    </tr>\n",
       "  </thead>\n",
       "  <tbody>\n",
       "    <tr>\n",
       "      <th>0</th>\n",
       "      <td>WIN_20210913_17_35_36_Pro.mp4</td>\n",
       "      <td>AW</td>\n",
       "      <td>CLOCKWISE</td>\n",
       "      <td>15.220197</td>\n",
       "      <td>46</td>\n",
       "      <td>3.0223</td>\n",
       "      <td>D:\\__School\\__Masters\\____2021fALL\\5280_aiwear...</td>\n",
       "      <td>15.0</td>\n",
       "      <td>1</td>\n",
       "      <td>AW_CLOCKWISE_00001</td>\n",
       "    </tr>\n",
       "  </tbody>\n",
       "</table>\n",
       "</div>"
      ],
      "text/plain": [
       "                       file_name subject_initials gesture_name  \\\n",
       "0  WIN_20210913_17_35_36_Pro.mp4               AW    CLOCKWISE   \n",
       "\n",
       "   frames_per_second  frame_count  duration_seconds  \\\n",
       "0          15.220197           46            3.0223   \n",
       "\n",
       "                                            dir_name  rounded_fps  \\\n",
       "0  D:\\__School\\__Masters\\____2021fALL\\5280_aiwear...         15.0   \n",
       "\n",
       "   increment_id gesture_video_foldername  \n",
       "0             1       AW_CLOCKWISE_00001  "
      ]
     },
     "execution_count": 33,
     "metadata": {},
     "output_type": "execute_result"
    }
   ],
   "source": [
    "df.head(1)"
   ]
  },
  {
   "cell_type": "code",
   "execution_count": 41,
   "id": "aa1d62ba",
   "metadata": {},
   "outputs": [
    {
     "data": {
      "text/plain": [
       "'D:\\\\__School\\\\__Masters\\\\____2021fALL\\\\5280_aiwearables\\\\videos_for_classification\\\\AW\\\\CLOCKWISE\\\\WIN_20210913_17_35_36_Pro.mp4'"
      ]
     },
     "execution_count": 41,
     "metadata": {},
     "output_type": "execute_result"
    }
   ],
   "source": [
    "df.dir_name[0]"
   ]
  },
  {
   "cell_type": "code",
   "execution_count": 38,
   "id": "6aff0ced",
   "metadata": {},
   "outputs": [],
   "source": [
    "build_frames_directory(df, TEST_TARGET_DIR, GESTURE_NAMES)"
   ]
  },
  {
   "cell_type": "code",
   "execution_count": 46,
   "id": "9385e67f",
   "metadata": {},
   "outputs": [],
   "source": [
    "def populate_frames(df, target_directory, gesture_names):\n",
    "    \"\"\"populate each of the video subfolders with individual frames from the videos\"\"\"\n",
    "    def per_row(row):\n",
    "        gesture_dir = Path(target_directory).joinpath(row.gesture_name)\n",
    "        output_video_dir = gesture_dir.joinpath(row.gesture_video_foldername)\n",
    "        input_video_dir = row.dir_name\n",
    "        print(f\"Processing {row.gesture_video_foldername}\")\n",
    "        video_to_frames(input_video_dir, output_video_dir)\n",
    "        \n",
    "    \n",
    "    df.apply(per_row, axis=1)"
   ]
  },
  {
   "cell_type": "code",
   "execution_count": null,
   "id": "3da70fb7",
   "metadata": {},
   "outputs": [
    {
     "name": "stdout",
     "output_type": "stream",
     "text": [
      "Processing AW_CLOCKWISE_00001\n",
      "Processing AW_CLOCKWISE_00002\n",
      "Processing AW_CLOCKWISE_00003\n",
      "Processing AW_CLOCKWISE_00004\n",
      "Processing AW_CLOCKWISE_00005\n",
      "Processing AW_CLOCKWISE_00006\n",
      "Processing AW_CLOCKWISE_00007\n",
      "Processing AW_CLOCKWISE_00008\n",
      "Processing AW_CLOCKWISE_00009\n",
      "Processing AW_CLOCKWISE_00010\n",
      "Processing IA_CLOCKWISE_00011\n",
      "Processing IA_CLOCKWISE_00012\n",
      "Processing IA_CLOCKWISE_00013\n",
      "Processing IA_CLOCKWISE_00014\n",
      "Processing IA_CLOCKWISE_00015\n",
      "Processing IA_CLOCKWISE_00016\n"
     ]
    }
   ],
   "source": [
    "populate_frames(df, TEST_TARGET_DIR, GESTURE_NAMES)"
   ]
  },
  {
   "cell_type": "code",
   "execution_count": null,
   "id": "98a94259",
   "metadata": {},
   "outputs": [],
   "source": []
  }
 ],
 "metadata": {
  "kernelspec": {
   "display_name": "Python 3 (ipykernel)",
   "language": "python",
   "name": "python3"
  },
  "language_info": {
   "codemirror_mode": {
    "name": "ipython",
    "version": 3
   },
   "file_extension": ".py",
   "mimetype": "text/x-python",
   "name": "python",
   "nbconvert_exporter": "python",
   "pygments_lexer": "ipython3",
   "version": "3.9.7"
  }
 },
 "nbformat": 4,
 "nbformat_minor": 5
}
