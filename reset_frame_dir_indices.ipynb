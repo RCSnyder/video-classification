{
 "cells": [
  {
   "cell_type": "code",
   "execution_count": 2,
   "id": "ecb35aee",
   "metadata": {},
   "outputs": [],
   "source": [
    "# this notebook will reset the indices of the frame directories \n",
    "# <participant_name>_<gesture_class>_<gesture_video_index_num>\n",
    "# this should be done prior to splitting the data"
   ]
  },
  {
   "cell_type": "code",
   "execution_count": 1,
   "id": "febfc444",
   "metadata": {},
   "outputs": [],
   "source": [
    "import os\n",
    "from pathlib import Path\n",
    "import cv2\n",
    "import pandas as pd\n",
    "import numpy as np"
   ]
  },
  {
   "cell_type": "code",
   "execution_count": 4,
   "id": "f0116aab",
   "metadata": {},
   "outputs": [],
   "source": [
    "FRAME_VIDEOS_TO_BE_INDEXED = Path(\"D:/__School/__Masters/____2021fALL/5280_aiwearables/combined_1st_2nd_3rd_iter_frames\")"
   ]
  },
  {
   "cell_type": "code",
   "execution_count": 8,
   "id": "aee43e5b",
   "metadata": {},
   "outputs": [],
   "source": [
    "def get_dir_names_all_videos(home_dir):\n",
    "    \"\"\"returns the names in a directories subfolders\"\"\"\n",
    "    video_fnames = []\n",
    "    for path, subdirs, files in os.walk(home_dir):\n",
    "        for name in subdirs:\n",
    "            video_fnames.append(str(Path(os.path.join(path, name))))\n",
    "    return video_fnames[6:]"
   ]
  },
  {
   "cell_type": "code",
   "execution_count": null,
   "id": "ec05167d",
   "metadata": {},
   "outputs": [],
   "source": []
  },
  {
   "cell_type": "code",
   "execution_count": 12,
   "id": "4c2e9256",
   "metadata": {},
   "outputs": [
    {
     "data": {
      "text/plain": [
       "['D:\\\\__School\\\\__Masters\\\\____2021fALL\\\\5280_aiwearables\\\\combined_1st_2nd_3rd_iter_frames\\\\CLOCKWISE\\\\AW_CLOCKWISE_00001',\n",
       " 'D:\\\\__School\\\\__Masters\\\\____2021fALL\\\\5280_aiwearables\\\\combined_1st_2nd_3rd_iter_frames\\\\CLOCKWISE\\\\AW_CLOCKWISE_00002',\n",
       " 'D:\\\\__School\\\\__Masters\\\\____2021fALL\\\\5280_aiwearables\\\\combined_1st_2nd_3rd_iter_frames\\\\CLOCKWISE\\\\AW_CLOCKWISE_00003']"
      ]
     },
     "execution_count": 12,
     "metadata": {},
     "output_type": "execute_result"
    }
   ],
   "source": [
    "# get all frame_video directories\n",
    "frame_videos = get_dir_names_all_videos(FRAME_VIDEOS_TO_BE_INDEXED)\n",
    "frame_videos[:3]"
   ]
  },
  {
   "cell_type": "code",
   "execution_count": 24,
   "id": "2f85d23e",
   "metadata": {},
   "outputs": [],
   "source": [
    "def reset_suffix_index(frame_videos):\n",
    "    gesture_count_dict = {\"CLOCKWISE\": 1, \"COUNTERCLOCKWISE\": 1, \"DOWN\": 1, \"UP\": 1, \"LEFT\": 1, \"RIGHT\": 1}\n",
    "    # count number of instances in each class\n",
    "    for fname in frame_videos:\n",
    "        fname_split = fname.split(\"\\\\\")\n",
    "        class_name = fname_split[-2]\n",
    "\n",
    "        # 5 decimal place pad ex. \"00045\"\n",
    "        str_index_suffix = f\"{gesture_count_dict[class_name]:05d}\"\n",
    "\n",
    "        video_fname_split = fname_split[-1].split(\"_\")\n",
    "        video_fname_split[-1] = str_index_suffix\n",
    "\n",
    "        new_video_fname = \"_\".join(video_fname_split)\n",
    "\n",
    "        fname_split[-1] = new_video_fname\n",
    "        new_fname = \"\\\\\".join(fname_split)\n",
    "\n",
    "        #print(fname)\n",
    "        #print(new_fname)\n",
    "        #print()\n",
    "\n",
    "        os.rename(fname, new_fname)\n",
    "\n",
    "        gesture_count_dict[class_name] += 1"
   ]
  },
  {
   "cell_type": "code",
   "execution_count": 25,
   "id": "d4d4f4fa",
   "metadata": {},
   "outputs": [],
   "source": [
    "# reset_suffix_index(frame_videos)"
   ]
  },
  {
   "cell_type": "code",
   "execution_count": 14,
   "id": "536446e6",
   "metadata": {},
   "outputs": [
    {
     "data": {
      "text/plain": [
       "{'CLOCKWISE': 118,\n",
       " 'COUNTERCLOCKWISE': 123,\n",
       " 'DOWN': 168,\n",
       " 'UP': 169,\n",
       " 'LEFT': 168,\n",
       " 'RIGHT': 169}"
      ]
     },
     "execution_count": 14,
     "metadata": {},
     "output_type": "execute_result"
    }
   ],
   "source": [
    "gesture_count_dict"
   ]
  },
  {
   "cell_type": "code",
   "execution_count": null,
   "id": "859734b6",
   "metadata": {},
   "outputs": [],
   "source": [
    "\n",
    "\n",
    "# dictionary counter with class names\n",
    "\n",
    "# rename with new incrementers"
   ]
  },
  {
   "cell_type": "code",
   "execution_count": 20,
   "id": "363e29b4",
   "metadata": {},
   "outputs": [],
   "source": [
    "# test rename\n",
    "number_idx = 45\n",
    "suffix = f\"\"\n",
    "\n",
    "old_name = Path(\"D:/__School/__Masters/____2021fALL/5280_aiwearables/testrename/newnewnew\")\n",
    "new_name = Path(\"D:/__School/__Masters/____2021fALL/5280_aiwearables/testrename/\").joinpath(suffix)\n",
    "\n",
    "os.rename(old_name, new_name)\n"
   ]
  },
  {
   "cell_type": "code",
   "execution_count": null,
   "id": "02413424",
   "metadata": {},
   "outputs": [],
   "source": []
  }
 ],
 "metadata": {
  "kernelspec": {
   "display_name": "Python 3 (ipykernel)",
   "language": "python",
   "name": "python3"
  },
  "language_info": {
   "codemirror_mode": {
    "name": "ipython",
    "version": 3
   },
   "file_extension": ".py",
   "mimetype": "text/x-python",
   "name": "python",
   "nbconvert_exporter": "python",
   "pygments_lexer": "ipython3",
   "version": "3.9.7"
  }
 },
 "nbformat": 4,
 "nbformat_minor": 5
}
